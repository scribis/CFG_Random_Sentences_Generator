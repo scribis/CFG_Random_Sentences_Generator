{
 "cells": [
  {
   "cell_type": "markdown",
   "id": "d0cc7fcd-1b81-40f5-8f18-36b6ce198b8f",
   "metadata": {},
   "source": [
    "# My Jupyter Notebook on IBM Watson Studio"
   ]
  },
  {
   "cell_type": "markdown",
   "id": "eba95752-2b19-456c-8792-115e5b7888e5",
   "metadata": {},
   "source": [
    "**Fabio Martines - Web Designer**"
   ]
  },
  {
   "cell_type": "markdown",
   "id": "832fcac1-1c58-47a3-a2a3-bd2b1ffd935d",
   "metadata": {},
   "source": [
    "*I am interested in data science because I want to develop writing games through NLP tools*"
   ]
  },
  {
   "cell_type": "markdown",
   "id": "ca820b64-3451-46f0-bc3c-75a24ef5391a",
   "metadata": {},
   "source": [
    "### PROGRAM: GENERATE RANDOM SENTENCES WITH CFG (Context-free grammar)\n",
    "\n",
    "##### 1. INSTALL AND IMPORT NECESSARY LIBRARIES & DEFINE FUNCTION TO GENERATE RANDOM SENTENCES FROM A CFG GRAMMAR\n",
    "##### 2. LOAD (OR EDIT) THE GRAMMAR\n",
    "##### 3. GENERATE SENTENCES"
   ]
  },
  {
   "cell_type": "code",
   "execution_count": 3,
   "id": "e53f8029-ef5d-48d6-9614-e9b69230f147",
   "metadata": {},
   "outputs": [
    {
     "name": "stdout",
     "output_type": "stream",
     "text": [
      "Requirement already satisfied: nltk in /home/jupyterlab/conda/envs/python/lib/python3.7/site-packages (3.7)\n",
      "Requirement already satisfied: joblib in /home/jupyterlab/conda/envs/python/lib/python3.7/site-packages (from nltk) (1.1.0)\n",
      "Requirement already satisfied: tqdm in /home/jupyterlab/conda/envs/python/lib/python3.7/site-packages (from nltk) (4.60.0)\n",
      "Requirement already satisfied: click in /home/jupyterlab/conda/envs/python/lib/python3.7/site-packages (from nltk) (8.1.3)\n",
      "Requirement already satisfied: regex>=2021.8.3 in /home/jupyterlab/conda/envs/python/lib/python3.7/site-packages (from nltk) (2022.7.9)\n",
      "Requirement already satisfied: importlib-metadata in /home/jupyterlab/conda/envs/python/lib/python3.7/site-packages (from click->nltk) (4.11.4)\n",
      "Requirement already satisfied: typing-extensions>=3.6.4 in /home/jupyterlab/conda/envs/python/lib/python3.7/site-packages (from importlib-metadata->click->nltk) (4.3.0)\n",
      "Requirement already satisfied: zipp>=0.5 in /home/jupyterlab/conda/envs/python/lib/python3.7/site-packages (from importlib-metadata->click->nltk) (3.8.0)\n",
      "Requirement already satisfied: scikit-learn in /home/jupyterlab/conda/envs/python/lib/python3.7/site-packages (1.0.2)\n",
      "Requirement already satisfied: joblib>=0.11 in /home/jupyterlab/conda/envs/python/lib/python3.7/site-packages (from scikit-learn) (1.1.0)\n",
      "Requirement already satisfied: scipy>=1.1.0 in /home/jupyterlab/conda/envs/python/lib/python3.7/site-packages (from scikit-learn) (1.7.3)\n",
      "Requirement already satisfied: numpy>=1.14.6 in /home/jupyterlab/conda/envs/python/lib/python3.7/site-packages (from scikit-learn) (1.21.6)\n",
      "Requirement already satisfied: threadpoolctl>=2.0.0 in /home/jupyterlab/conda/envs/python/lib/python3.7/site-packages (from scikit-learn) (3.1.0)\n"
     ]
    }
   ],
   "source": [
    "# INSTALL NLTK & scikit libraries (take few seconds)\n",
    "!pip install nltk\n",
    "!pip install -U scikit-learn\n",
    "\n",
    "# IMPORT NECESSARY MODULES\n",
    "import nltk\n",
    "import random\n",
    "\n",
    "# FUNCTION TO GENERATE RANDOM SENTENCES\n",
    "# CREDITS: https://stackoverflow.com/questions/15009656/how-to-use-nltk-to-generate-sentences-from-an-induced-grammar\n",
    "def generate_sample(grammar, prod, frags):\n",
    "    if prod in grammar._lhs_index:\n",
    "        derivations = grammar._lhs_index[prod]\n",
    "        derivation = random.choice(derivations)\n",
    "        for d in derivation._rhs:\n",
    "            generate_sample(grammar, d, frags)\n",
    "    elif prod in grammar._rhs_index:\n",
    "        # terminal\n",
    "        frags.append(str(prod))"
   ]
  },
  {
   "cell_type": "code",
   "execution_count": null,
   "id": "af1005f1-5292-438b-9dcf-7d3e997ca7a9",
   "metadata": {},
   "outputs": [],
   "source": [
    "# LOAD THE GRAMMAR (YOU CAN EDIT YOURS)\n",
    "\n",
    "grammar = nltk.CFG.fromstring(\"\"\"\n",
    "  S -> NP VP\n",
    "  VP -> V OP\n",
    "  V -> \"afferrò\" | \"prese\" | \"preparò\" | \"bevve\" | \"trangugiò\" | \"gli diede\" | \"gli donò\" | \"le diede\" | \"le donò\"\n",
    "  NP -> Det N | Det AggP N | Det N AggP\n",
    "  OP -> Det O | Det AggO O | Det O AggO\n",
    "  AggO -> \"magica\" | \"speciale\" | \"portentosa\" | \"segreta\"\n",
    "  AggP -> \"vecchia\" | \"piccola\" | \"malvagia\"\n",
    "  Det -> \"la\" | \"quella\" | \"una\"\n",
    "  N -> \"strega\" | \"megera\" | \"stregaccia\" | \"maghetta\" | \"maga\"\n",
    "  O -> \"pozione\" | \"bevanda\"\n",
    "  \"\"\")"
   ]
  },
  {
   "cell_type": "code",
   "execution_count": 6,
   "id": "622430b0-3277-4eea-aa5f-32439ec0bc87",
   "metadata": {},
   "outputs": [
    {
     "name": "stdout",
     "output_type": "stream",
     "text": [
      "la megera le diede una portentosa bevanda\n",
      "una stregaccia malvagia prese quella magica bevanda\n",
      "quella strega piccola le diede la pozione speciale\n",
      "quella piccola maga le diede quella portentosa pozione\n",
      "una megera afferrò quella bevanda\n",
      "una malvagia stregaccia le diede una pozione\n",
      "la piccola megera le diede quella pozione\n",
      "una vecchia maghetta prese una pozione speciale\n",
      "la vecchia strega le donò quella bevanda\n",
      "la malvagia stregaccia le donò una magica bevanda\n",
      "la megera malvagia prese la bevanda magica\n",
      "una malvagia megera gli donò quella magica pozione\n",
      "la megera vecchia le donò quella bevanda\n",
      "la stregaccia malvagia prese una portentosa bevanda\n",
      "quella maghetta le diede quella pozione\n",
      "quella vecchia maga gli donò la bevanda\n",
      "quella maga malvagia gli diede una bevanda\n",
      "una malvagia maghetta le donò la bevanda speciale\n",
      "una maga malvagia preparò quella bevanda segreta\n",
      "una malvagia stregaccia trangugiò una bevanda\n"
     ]
    }
   ],
   "source": [
    "# GENERATE SENTENCES\n",
    "\n",
    "for i in range(20):\n",
    "    frags = []  \n",
    "    generate_sample(grammar, grammar.start(), frags)\n",
    "    print(' '.join(frags))\n",
    "    #print(\"\\n\")"
   ]
  },
  {
   "cell_type": "markdown",
   "id": "eba60cd6-6dd0-42ea-8449-61dd472083ef",
   "metadata": {},
   "source": [
    "### REFERENCES\n",
    "- [WHAT IS A CFG](\"https://en.wikipedia.org/wiki/Context-free_grammar\")\n",
    "- [CREDITS](\"https://stackoverflow.com/questions/15009656/how-to-use-nltk-to-generate-sentences-from-an-induced-grammar\")\n"
   ]
  },
  {
   "cell_type": "code",
   "execution_count": null,
   "id": "eeb68cf9-cce9-4557-865a-0fac6133f8c0",
   "metadata": {},
   "outputs": [],
   "source": []
  }
 ],
 "metadata": {
  "kernelspec": {
   "display_name": "Python",
   "language": "python",
   "name": "conda-env-python-py"
  },
  "language_info": {
   "codemirror_mode": {
    "name": "ipython",
    "version": 3
   },
   "file_extension": ".py",
   "mimetype": "text/x-python",
   "name": "python",
   "nbconvert_exporter": "python",
   "pygments_lexer": "ipython3",
   "version": "3.7.12"
  }
 },
 "nbformat": 4,
 "nbformat_minor": 5
}

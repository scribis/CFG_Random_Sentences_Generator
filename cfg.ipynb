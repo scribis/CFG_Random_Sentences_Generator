{
 "cells": [
  {
   "cell_type": "code",
   "execution_count": null,
   "id": "f4c61858-3cb4-4969-aa38-5555d78cd886",
   "metadata": {},
   "outputs": [],
   "source": [
    "# GENERATE RANDOM SENTENCES WITH CFG (Context-free grammar)\n",
    "# 1. INSTALL AND IMPORT LIBRARIES\n",
    "# 2. DEFINE FUNCTION TO GENERATE RANDOM SENTENCES FROM A GRAMMAR\n",
    "# 3. BUILD YOUR GRAMMAR\n",
    "# 4. GENERATE SENTENCES"
   ]
  },
  {
   "cell_type": "code",
   "execution_count": null,
   "id": "a9964807-cbbe-4bed-8ef4-9d9748e70198",
   "metadata": {},
   "outputs": [],
   "source": [
    "# INSTALL NLTK library (take few seconds)\n",
    "!pip install nltk"
   ]
  },
  {
   "cell_type": "code",
   "execution_count": null,
   "id": "5dee598c-aefe-49f6-9948-b0a1dc131a8f",
   "metadata": {},
   "outputs": [],
   "source": [
    "# IMPORT NECESSARY MODULES\n",
    "import nltk\n",
    "import random"
   ]
  },
  {
   "cell_type": "code",
   "execution_count": null,
   "id": "78413db8-ab60-4b71-a2d9-80a6417cc2a4",
   "metadata": {},
   "outputs": [],
   "source": [
    "# FUNCTION TO GENERATE RANDOM SENTENCES\n",
    "def generate_sample(grammar, prod, frags):        \n",
    "    if prod in grammar._lhs_index: # Derivation\n",
    "        derivations = grammar._lhs_index[prod]            \n",
    "        derivation = random.choice(derivations)            \n",
    "        for d in derivation._rhs:            \n",
    "            generate_sample(grammar, d, frags)\n",
    "    elif prod in grammar._rhs_index:\n",
    "        # terminal\n",
    "        frags.append(str(prod))"
   ]
  },
  {
   "cell_type": "code",
   "execution_count": null,
   "id": "d2efc9cf-70c3-494b-a7b4-59b3a3c77918",
   "metadata": {},
   "outputs": [],
   "source": [
    "# BUILD YOUR GRAMMAR\n",
    "\n",
    "grammar = nltk.CFG.fromstring(\"\"\"\n",
    "  S -> NP VP\n",
    "  VP -> V OP\n",
    "  V -> \"afferrò\" | \"prese\" | \"preparò\"\n",
    "  NP -> Det N | Det AggP N | Det N AggP\n",
    "  OP -> Det O | Det AggO O | Det O AggO\n",
    "  AggO -> \"magica\" | \"speciale\" | \"portentosa\" | \"segreta\"\n",
    "  AggP -> \"vecchia\" | \"piccola\" | \"malvagia\"\n",
    "  Det -> \"la\" | \"quella\" | \"una\"\n",
    "  N -> \"strega\" | \"megera\" | \"stregaccia\" | \"maghetta\" | \"maga\"\n",
    "  O -> \"pozione\" | \"bevanda\"\n",
    "  \"\"\")"
   ]
  },
  {
   "cell_type": "code",
   "execution_count": 23,
   "id": "622430b0-3277-4eea-aa5f-32439ec0bc87",
   "metadata": {},
   "outputs": [
    {
     "name": "stdout",
     "output_type": "stream",
     "text": [
      "la maghetta prese una bevanda\n",
      "una piccola strega prese una bevanda\n",
      "una piccola maghetta preparò una pozione\n",
      "una maga prese quella pozione segreta\n",
      "la stregaccia malvagia preparò una pozione\n",
      "la megera malvagia preparò quella segreta bevanda\n",
      "quella stregaccia afferrò quella speciale pozione\n",
      "una maghetta afferrò quella bevanda portentosa\n",
      "una malvagia stregaccia prese la bevanda\n",
      "la strega preparò una pozione speciale\n"
     ]
    }
   ],
   "source": [
    "# GENERATE SENTENCES\n",
    "\n",
    "for i in range(10):\n",
    "    frags = []  \n",
    "    generate_sample(grammar, grammar.start(), frags)\n",
    "    print(' '.join(frags))\n",
    "    #print(\"\\n\")"
   ]
  },
  {
   "cell_type": "code",
   "execution_count": null,
   "id": "0eacc072-1a00-46cd-943c-f4c17285c27d",
   "metadata": {},
   "outputs": [],
   "source": []
  }
 ],
 "metadata": {
  "kernelspec": {
   "display_name": "Python",
   "language": "python",
   "name": "conda-env-python-py"
  },
  "language_info": {
   "codemirror_mode": {
    "name": "ipython",
    "version": 3
   },
   "file_extension": ".py",
   "mimetype": "text/x-python",
   "name": "python",
   "nbconvert_exporter": "python",
   "pygments_lexer": "ipython3",
   "version": "3.7.12"
  }
 },
 "nbformat": 4,
 "nbformat_minor": 5
}
